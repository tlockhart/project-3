{
 "cells": [
  {
   "cell_type": "code",
   "execution_count": 2,
   "metadata": {},
   "outputs": [
    {
     "name": "stdout",
     "output_type": "stream",
     "text": [
      "Business DataFrame: (150346, 14)\n",
      "Review DataFrame: (6990280, 9)\n",
      "User DataFrame: (1987897, 22)\n"
     ]
    }
   ],
   "source": [
    "import pandas as pd\n",
    "import json\n",
    "\n",
    "# Replace these with your actual file paths\n",
    "business_file = 'yelp_academic_dataset_business.json'\n",
    "review_file = 'yelp_academic_dataset_review.json'\n",
    "user_file = 'yelp_academic_dataset_user.json'\n",
    "\n",
    "# Function to load JSON lines into a DataFrame\n",
    "def load_json_lines(filepath):\n",
    "    with open(filepath, 'r', encoding='utf-8') as f:\n",
    "        data = [json.loads(line) for line in f]\n",
    "    return pd.DataFrame(data)\n",
    "\n",
    "# Load the datasets\n",
    "business_df = load_json_lines(business_file)\n",
    "review_df = load_json_lines(review_file)\n",
    "user_df = load_json_lines(user_file)\n",
    "\n",
    "# Display basic info\n",
    "print(\"Business DataFrame:\", business_df.shape)\n",
    "print(\"Review DataFrame:\", review_df.shape)\n",
    "print(\"User DataFrame:\", user_df.shape)\n"
   ]
  },
  {
   "cell_type": "code",
   "execution_count": 7,
   "metadata": {},
   "outputs": [],
   "source": [
    "# Save each DataFrame for faster access later\n",
    "business_df.to_parquet(\"business_df.parquet\")\n",
    "review_df.to_parquet(\"review_df.parquet\")\n",
    "user_df.to_parquet(\"user_df.parquet\")"
   ]
  },
  {
   "cell_type": "code",
   "execution_count": 3,
   "metadata": {},
   "outputs": [],
   "source": [
    "import pandas as pd\n",
    "\n",
    "# Load previously saved DataFrames\n",
    "business_df = pd.read_parquet(\"../Data/philly_businesses.parquet\")\n",
    "review_df = pd.read_parquet(\"../Data/philly_reviews.parquet\")\n",
    "user_df = pd.read_parquet(\"../Data/philly_users.parquet\")"
   ]
  },
  {
   "cell_type": "code",
   "execution_count": 12,
   "metadata": {},
   "outputs": [],
   "source": [
    "# Step 1: Filter business_df\n",
    "filtered_business_df = business_df[\n",
    "    (business_df['stars'] > 4.0) &\n",
    "    (business_df['review_count'] >= 5) &\n",
    "    (business_df['categories'].str.contains('Restaurants', na=False))\n",
    "]\n",
    "\n",
    "# Step 2: Filter review_df to reviews for those businesses\n",
    "filtered_review_df = review_df[review_df['business_id'].isin(filtered_business_df['business_id'])]\n",
    "\n",
    "# Step 3: Filter user_df to only users who wrote those reviews AND have at least 5 reviews\n",
    "filtered_user_df = user_df[\n",
    "    (user_df['user_id'].isin(filtered_review_df['user_id'])) &\n",
    "    (user_df['review_count'] >= 10)\n",
    "][['user_id', 'friends']]  # Only keep user_id and friends\n",
    "\n",
    "# Step 4: Save to Parquet with compression\n",
    "filtered_business_df.to_parquet(\"filtered_restaurants_businesses.parquet\", index=False, compression='snappy')\n",
    "filtered_review_df.to_parquet(\"filtered_restaurants_reviews.parquet\", index=False, compression='snappy')\n",
    "filtered_user_df.to_parquet(\"filtered_restaurants_users.parquet\", index=False, compression='snappy')\n"
   ]
  },
  {
   "cell_type": "code",
   "execution_count": 13,
   "metadata": {},
   "outputs": [
    {
     "name": "stdout",
     "output_type": "stream",
     "text": [
      "Number of restaurants: 1137\n",
      "Number of users: 43101\n",
      "Number of reviews: 140165\n",
      "Average users per restaurant: 119.83\n",
      "Average reviews per restaurant: 123.28\n"
     ]
    }
   ],
   "source": [
    "# Counts\n",
    "restaurant_count = len(filtered_business_df)\n",
    "user_count = len(filtered_user_df)\n",
    "review_count = len(filtered_review_df)\n",
    "\n",
    "# Avg users per restaurant (unique users per business)\n",
    "users_per_restaurant = (\n",
    "    filtered_review_df.groupby('business_id')['user_id']\n",
    "    .nunique()\n",
    "    .mean()\n",
    ")\n",
    "\n",
    "# Avg reviews per restaurant\n",
    "reviews_per_restaurant = (\n",
    "    filtered_review_df.groupby('business_id')['review_id']\n",
    "    .count()\n",
    "    .mean()\n",
    ")\n",
    "\n",
    "# Print the results\n",
    "print(f\"Number of restaurants: {restaurant_count}\")\n",
    "print(f\"Number of users: {user_count}\")\n",
    "print(f\"Number of reviews: {review_count}\")\n",
    "print(f\"Average users per restaurant: {users_per_restaurant:.2f}\")\n",
    "print(f\"Average reviews per restaurant: {reviews_per_restaurant:.2f}\")\n"
   ]
  },
  {
   "cell_type": "code",
   "execution_count": 8,
   "metadata": {},
   "outputs": [
    {
     "data": {
      "text/html": [
       "<div>\n",
       "<style scoped>\n",
       "    .dataframe tbody tr th:only-of-type {\n",
       "        vertical-align: middle;\n",
       "    }\n",
       "\n",
       "    .dataframe tbody tr th {\n",
       "        vertical-align: top;\n",
       "    }\n",
       "\n",
       "    .dataframe thead th {\n",
       "        text-align: right;\n",
       "    }\n",
       "</style>\n",
       "<table border=\"1\" class=\"dataframe\">\n",
       "  <thead>\n",
       "    <tr style=\"text-align: right;\">\n",
       "      <th></th>\n",
       "      <th>user_id</th>\n",
       "      <th>friends</th>\n",
       "    </tr>\n",
       "  </thead>\n",
       "  <tbody>\n",
       "    <tr>\n",
       "      <th>0</th>\n",
       "      <td>qVc8ODYU5SZjKXVBgXdI7w</td>\n",
       "      <td>NSCy54eWehBJyZdG2iE84w, pe42u7DcCH2QmI81NX-8qA...</td>\n",
       "    </tr>\n",
       "    <tr>\n",
       "      <th>1</th>\n",
       "      <td>j14WgRoU_-2ZE1aw1dXrJg</td>\n",
       "      <td>ueRPE0CX75ePGMqOFVj6IQ, 52oH4DrRvzzl8wh5UXyU0A...</td>\n",
       "    </tr>\n",
       "    <tr>\n",
       "      <th>4</th>\n",
       "      <td>1McG5Rn_UDkmlkZOrsdptg</td>\n",
       "      <td>piejMEdRkGB7-1aL4lL5NQ, X0zFOU6iG95-feQKOXkgrA...</td>\n",
       "    </tr>\n",
       "    <tr>\n",
       "      <th>7</th>\n",
       "      <td>NIhcRW6DWvk1JQhDhXwgOQ</td>\n",
       "      <td>T1upaPMzuW7pNj74fO1rjA, CP28puvAEimt4ziuGTDaHA...</td>\n",
       "    </tr>\n",
       "    <tr>\n",
       "      <th>10</th>\n",
       "      <td>QJI9OSEn6ujRCtrX06vs1w</td>\n",
       "      <td>RyPeT_ICAtX8ah9dhDpEFw, W8r4aKPZFT3GPIQQDbqB6Q...</td>\n",
       "    </tr>\n",
       "  </tbody>\n",
       "</table>\n",
       "</div>"
      ],
      "text/plain": [
       "                   user_id                                            friends\n",
       "0   qVc8ODYU5SZjKXVBgXdI7w  NSCy54eWehBJyZdG2iE84w, pe42u7DcCH2QmI81NX-8qA...\n",
       "1   j14WgRoU_-2ZE1aw1dXrJg  ueRPE0CX75ePGMqOFVj6IQ, 52oH4DrRvzzl8wh5UXyU0A...\n",
       "4   1McG5Rn_UDkmlkZOrsdptg  piejMEdRkGB7-1aL4lL5NQ, X0zFOU6iG95-feQKOXkgrA...\n",
       "7   NIhcRW6DWvk1JQhDhXwgOQ  T1upaPMzuW7pNj74fO1rjA, CP28puvAEimt4ziuGTDaHA...\n",
       "10  QJI9OSEn6ujRCtrX06vs1w  RyPeT_ICAtX8ah9dhDpEFw, W8r4aKPZFT3GPIQQDbqB6Q..."
      ]
     },
     "execution_count": 8,
     "metadata": {},
     "output_type": "execute_result"
    }
   ],
   "source": [
    "filtered_user_df.head()"
   ]
  },
  {
   "cell_type": "code",
   "execution_count": 9,
   "metadata": {},
   "outputs": [],
   "source": [
    "# Step 1: Filter original user_df for review_count >= 5\n",
    "filtered_user_df = user_df[user_df['review_count'] >= 5]\n",
    "\n",
    "# Step 2: Keep only user_id and friends\n",
    "filtered_user_df = filtered_user_df[['user_id', 'friends']]\n",
    "\n",
    "# Step 3: Save to Parquet with compression\n",
    "filtered_user_df.to_parquet(\"filtered_restaurants_users.parquet\", index=False, compression='snappy')\n"
   ]
  },
  {
   "cell_type": "code",
   "execution_count": 7,
   "metadata": {},
   "outputs": [],
   "source": [
    "# Keep only user_id and friends\n",
    "filtered_user_df = filtered_user_df[['user_id', 'friends']]\n",
    "\n",
    "# Save with compression to reduce file size\n",
    "filtered_user_df.to_parquet(\"filtered_restaurants_users.parquet\", index=False, compression='snappy')\n"
   ]
  }
 ],
 "metadata": {
  "kernelspec": {
   "display_name": "dev",
   "language": "python",
   "name": "python3"
  },
  "language_info": {
   "codemirror_mode": {
    "name": "ipython",
    "version": 3
   },
   "file_extension": ".py",
   "mimetype": "text/x-python",
   "name": "python",
   "nbconvert_exporter": "python",
   "pygments_lexer": "ipython3",
   "version": "3.10.15"
  }
 },
 "nbformat": 4,
 "nbformat_minor": 2
}
