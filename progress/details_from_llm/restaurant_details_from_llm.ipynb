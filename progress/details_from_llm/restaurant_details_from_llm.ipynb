{
 "cells": [
  {
   "cell_type": "markdown",
   "metadata": {},
   "source": [
    "# This is a final file for getting the restaurant details from an LLM"
   ]
  },
  {
   "cell_type": "markdown",
   "metadata": {},
   "source": [
    "## Import Libraries"
   ]
  },
  {
   "cell_type": "code",
   "execution_count": 2,
   "metadata": {},
   "outputs": [],
   "source": [
    "from langchain_google_genai import ChatGoogleGenerativeAI\n",
    "from dotenv import load_dotenv, find_dotenv\n",
    "from langchain import PromptTemplate\n",
    "from langchain.output_parsers import PydanticOutputParser\n",
    "from pydantic import Field, BaseModel\n",
    "\n",
    "import os"
   ]
  },
  {
   "cell_type": "markdown",
   "metadata": {},
   "source": [
    "## Setting the LLM Model and API Key"
   ]
  },
  {
   "cell_type": "code",
   "execution_count": 3,
   "metadata": {},
   "outputs": [],
   "source": [
    "# Locate .env file, and load environment variables.\n",
    "dotenv_path = find_dotenv()\n",
    "if dotenv_path:\n",
    "    load_dotenv(dotenv_path)\n",
    "else:\n",
    "    raise FileNotFoundError(\".env file not found!\")\n",
    "\n",
    "\n",
    "# Set the model name for our LLMs.\n",
    "GEMINI_MODEL = \"gemini-2.0-flash\"\n",
    "\n",
    "# Load the API key to a variable.\n",
    "GEMINI_API_KEY = os.getenv(\"GEMINI_API_KEY\")\n",
    "if not GEMINI_API_KEY:\n",
    "    raise ValueError(\"GEMINI_API_KEY is missing! Check your .env file.\")"
   ]
  },
  {
   "cell_type": "code",
   "execution_count": 4,
   "metadata": {},
   "outputs": [],
   "source": [
    "# Define the class for our parsed responses.\n",
    "class restaurant_detail(BaseModel):\n",
    "    phone: str = Field(description=\"Phone\")\n",
    "    address: str = Field(description=\"Address\")\n",
    "    summary: str = Field(description=\"Summary\")\n",
    "    moods: str = Field(description=\"Moods\")\n",
    "    highlight: str = Field(description=\"Highlight\")\n",
    "    rating: str = Field(description=\"Rating\")\n",
    "    hours: str = Field(description=\"Hours\")\n",
    "    price: str = Field(description=\"Price\")\n",
    "    popular_items: str = Field(description=\"Popular Items\")"
   ]
  },
  {
   "cell_type": "markdown",
   "metadata": {},
   "source": [
    "## Set up prompt tempplate"
   ]
  },
  {
   "cell_type": "code",
   "execution_count": 5,
   "metadata": {},
   "outputs": [],
   "source": [
    "def setup_prompt_template(query):\n",
    "    # Define the format for the template.\n",
    "    format = \"\"\"You are a world famous restaurant expert.  Answer only questions that would be about restaurants.\n",
    "    If the human asks questions not related to restaurant, remind them that your job is to help them get the details of a restaurnt\n",
    "    Question: {query}\n",
    "    Answer:\n",
    "\n",
    "        **Your response should have the following information:**\n",
    "\n",
    "        **Summary:** [Summary of the restaurant]\n",
    "        **Phone:** [Phone number of the restaurant]\n",
    "        **Address:** [Address of the restaurent]\n",
    "        **Moods:** [Moods of the restaurant]\n",
    "        **Highlight:** [quality of food, service, value]\n",
    "        **Rating:** [Rating]\n",
    "        **Hours:** [hours of business]\n",
    "        **Price:** [usual price range per person]\n",
    "        **Popular Items:** [popluar menu items]\n",
    "\n",
    "        For example:\n",
    "        **Summary:** Chama Gaucha is a high-end churrascaria (Brazilian steakhouse) offering a wide selection of grilled meats carved tableside by gauchos (Brazilian cowboys)\n",
    "        **Phone:** (713) 357-9777\n",
    "        **Address:** 5655 Westheimer Rd Suite A, Houston, TX 77056\n",
    "        **Moods:** Vibrant, lively, and celebratory\n",
    "        **Highlight:** Reviewers consistently praise the \"perfectly cooked meats\" and the \"robust salad bar\" with fresh options. \n",
    "                    The service is frequently described as \"impeccable\" and \"attentive,\" with staff ensuring glasses are filled and meat preferences are met.\n",
    "        **Rating:** 4.7\n",
    "        **Hours:**  Sunday - Thursday: 11 AM - 10 PM\n",
    "                    Friday - Saturday: 11 AM - 11 PM\n",
    "        **Price:**  $30 - $50\n",
    "        **Popular Items:** Picanha, Churrasco, Salad Bar\n",
    "\n",
    "        Do not include any extra text or formatting. \n",
    "    \"\"\"\n",
    "\n",
    "    # Construct the prompt template.\n",
    "    prompt_template = PromptTemplate(\n",
    "        input_variables=[\"query\"], \n",
    "        template = format)\n",
    "    \n",
    "    return prompt_template"
   ]
  },
  {
   "cell_type": "markdown",
   "metadata": {},
   "source": [
    "## Define the final entry function"
   ]
  },
  {
   "cell_type": "code",
   "execution_count": 6,
   "metadata": {},
   "outputs": [],
   "source": [
    "def get_details_from_llm(restaurant_name, restaurant_city, restaurant_street):\n",
    "    \n",
    "    query = f\"Give me the details of {restaurant_name} in {restaurant_city} on {restaurant_street}\"\n",
    "\n",
    "    prompt_template = setup_prompt_template(query)\n",
    "\n",
    "    # Initialize the output parser using the schema.\n",
    "    parser = PydanticOutputParser(pydantic_object = restaurant_detail)\n",
    "\n",
    "    # Get the output format instructions and print them.\n",
    "    instructions = parser.get_format_instructions()\n",
    "\n",
    "    # Define a query as a string, combining with the instructions.\n",
    "    query += \"\\n\\n\" + instructions\n",
    "\n",
    "    # Create the LangChain Model\n",
    "    llm = ChatGoogleGenerativeAI(model=GEMINI_MODEL, google_api_key=GEMINI_API_KEY, temperature=0.3)\n",
    "\n",
    "    # Pass the query to the invoke method, and print the result.  \n",
    "    response = (prompt_template | llm).invoke(query)\n",
    "\n",
    "    # Parse the result, store it, and print it.\n",
    "    data = parser.parse(response.content)\n",
    "\n",
    "    return data"
   ]
  },
  {
   "cell_type": "code",
   "execution_count": 7,
   "metadata": {},
   "outputs": [
    {
     "name": "stdout",
     "output_type": "stream",
     "text": [
      "(713) 357-9777\n",
      "5655 Westheimer Rd Suite A, Houston, TX 77056\n",
      "Chama Gaucha is a high-end churrascaria (Brazilian steakhouse) offering a wide selection of grilled meats carved tableside by gauchos (Brazilian cowboys)\n",
      "Vibrant, lively, and celebratory\n",
      "Reviewers consistently praise the \"perfectly cooked meats\" and the \"robust salad bar\" with fresh options. \n",
      "                    The service is frequently described as \"impeccable\" and \"attentive,\" with staff ensuring glasses are filled and meat preferences are met.\n",
      "4.7\n",
      "Sunday - Thursday: 11 AM - 10 PM\n",
      "                    Friday - Saturday: 11 AM - 11 PM\n",
      "$30 - $50\n",
      "Picanha, Churrasco, Salad Bar\n"
     ]
    }
   ],
   "source": [
    "# Test calling get_details_from_llm\n",
    "restaurant_name = 'Chama Gaucha'\n",
    "restaurant_city = 'Houston'\n",
    "restaurant_street = 'Westheimer'\n",
    "my_restaurant = get_details_from_llm(restaurant_name, restaurant_city, restaurant_street)\n",
    "\n",
    "\n",
    "# Display the data\n",
    "print(my_restaurant.phone)\n",
    "print(my_restaurant.address)\n",
    "print(my_restaurant.summary)\n",
    "print(my_restaurant.moods)\n",
    "print(my_restaurant.highlight)\n",
    "print(my_restaurant.rating)\n",
    "print(my_restaurant.hours)\n",
    "print(my_restaurant.price)\n",
    "print(my_restaurant.popular_items)"
   ]
  },
  {
   "cell_type": "markdown",
   "metadata": {},
   "source": [
    "## Translation"
   ]
  },
  {
   "cell_type": "code",
   "execution_count": 12,
   "metadata": {},
   "outputs": [
    {
     "name": "stderr",
     "output_type": "stream",
     "text": [
      "Device set to use cpu\n"
     ]
    }
   ],
   "source": [
    "from transformers import pipeline\n",
    "\n",
    "translator = pipeline(\"translation\", model=\"t5-base\")\n",
    "\n",
    "# target language could be Romanian, French, German\n",
    "def translate(input_text, target_langage):\n",
    "\n",
    "    text = f\"translate English to {target_langage}: {input_text}\"\n",
    "    results = translator(text)\n",
    "\n",
    "    return results[0]['translation_text']"
   ]
  },
  {
   "cell_type": "code",
   "execution_count": 14,
   "metadata": {},
   "outputs": [
    {
     "name": "stdout",
     "output_type": "stream",
     "text": [
      "(713) 357-9777\n",
      "5655 Westheimer Rd Suite A, Houston, TX 77056\n",
      "Chama Gaucha ist ein High-End-Churrascaria (Brasilianisches Steakhouse) mit einer großen Auswahl an gegrilltem Fleisch, das von Gauchos (Brasilianischen Cowboys) am Tisch geschnitzt wird.\n",
      "Lebhaft, lebhaft und feierlich\n",
      "Das Restaurant bietet eine reichhaltige Auswahl an Speisen und Getränken.\n",
      "4,7\n",
      "Sonntag - Donnerstag: 11.00 - 22.00 Uhr Freitag - Samstag: 11.00 - 23.00 Uhr\n",
      "30 - 50 Dollar\n",
      "Picanha, Churrasco, Salad Bar\n"
     ]
    }
   ],
   "source": [
    "# testing translationg\n",
    "selected_language = 'German'\n",
    "\n",
    "result = translate(my_restaurant.phone, selected_language)\n",
    "print(result)\n",
    "result = translate(my_restaurant.address, selected_language)\n",
    "print(result)\n",
    "result = translate(my_restaurant.summary, selected_language)\n",
    "print(result)\n",
    "result = translate(my_restaurant.moods, selected_language)\n",
    "print(result)\n",
    "result = translate(my_restaurant.highlight, selected_language)\n",
    "print(result)\n",
    "result = translate(my_restaurant.rating, selected_language)\n",
    "print(result)\n",
    "result = translate(my_restaurant.hours, selected_language)\n",
    "print(result)\n",
    "result = translate(my_restaurant.price, selected_language)\n",
    "print(result)\n",
    "result = translate(my_restaurant.popular_items, selected_language)\n",
    "print(result)"
   ]
  },
  {
   "cell_type": "code",
   "execution_count": null,
   "metadata": {},
   "outputs": [],
   "source": []
  }
 ],
 "metadata": {
  "kernelspec": {
   "display_name": "project",
   "language": "python",
   "name": "python3"
  },
  "language_info": {
   "codemirror_mode": {
    "name": "ipython",
    "version": 3
   },
   "file_extension": ".py",
   "mimetype": "text/x-python",
   "name": "python",
   "nbconvert_exporter": "python",
   "pygments_lexer": "ipython3",
   "version": "3.10.16"
  }
 },
 "nbformat": 4,
 "nbformat_minor": 2
}
