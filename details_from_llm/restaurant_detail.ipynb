{
 "cells": [
  {
   "cell_type": "code",
   "execution_count": 5,
   "metadata": {},
   "outputs": [],
   "source": [
    "from langchain_google_genai import ChatGoogleGenerativeAI\n",
    "from dotenv import load_dotenv, find_dotenv\n",
    "from langchain import PromptTemplate\n",
    "import os"
   ]
  },
  {
   "cell_type": "markdown",
   "metadata": {},
   "source": [
    "# LLM Model and API Key"
   ]
  },
  {
   "cell_type": "code",
   "execution_count": 4,
   "metadata": {},
   "outputs": [],
   "source": [
    "# Locate .env file, and load environment variables.\n",
    "dotenv_path = find_dotenv()\n",
    "if dotenv_path:\n",
    "    load_dotenv(dotenv_path)\n",
    "else:\n",
    "    raise FileNotFoundError(\".env file not found!\")\n",
    "\n",
    "\n",
    "# Set the model name for our LLMs.\n",
    "GEMINI_MODEL = \"gemini-1.5-flash\"\n",
    "\n",
    "# Load the API key to a variable.\n",
    "GEMINI_API_KEY = os.getenv(\"GEMINI_API_KEY\")\n",
    "if not GEMINI_API_KEY:\n",
    "    raise ValueError(\"GEMINI_API_KEY is missing! Check your .env file.\")\n"
   ]
  },
  {
   "cell_type": "markdown",
   "metadata": {},
   "source": [
    "# Basic Query"
   ]
  },
  {
   "cell_type": "code",
   "execution_count": 6,
   "metadata": {},
   "outputs": [],
   "source": [
    "# Initialize the model.\n",
    "llm = ChatGoogleGenerativeAI(model=GEMINI_MODEL, google_api_key=GEMINI_API_KEY, temperature=0.3)"
   ]
  },
  {
   "cell_type": "code",
   "execution_count": 11,
   "metadata": {},
   "outputs": [
    {
     "name": "stdout",
     "output_type": "stream",
     "text": [
      "The mood at Pho Binh on Beechnut in Houston is generally **casual, bustling, and family-friendly**.  It's a classic, no-frills Vietnamese pho spot, so expect a lively atmosphere, possibly with some wait times during peak hours.  Think energetic but comfortable, more focused on the food than a fine-dining experience.\n",
      "\n",
      "\n",
      "Summary: Pho Binh on Beechnut is a popular Houston institution known for its consistently good, affordable pho and other Vietnamese dishes.  It's a beloved neighborhood staple appreciated for its generous portions, authentic flavors, and quick service (despite the crowds). While the decor is simple, the focus is squarely on delivering delicious, traditional Vietnamese food at a reasonable price.  It's a great place for a quick, satisfying, and authentic meal.\n"
     ]
    }
   ],
   "source": [
    "restaurant_name = \"Pho Binh\"\n",
    "restaurant_city = \"Houston\"\n",
    "restaurant_street = \"Beechnut\"\n",
    "\n",
    "# restaurant_name = \"Chama Gaucha Brazilian Steakhouse\"\n",
    "# restaurant_city = \"Houston\"\n",
    "# restaurant_street = \"Westheimer\"\n",
    "\n",
    "# Define a query as a string.\n",
    "# query = f\"Give me a summary and review of {restaurant_name} in {restaurant_city} on {restaurant_street}\"\n",
    "\n",
    "query = f\"Give me the mood and a summary of {restaurant_name} in {restaurant_city} on {restaurant_street}\"\n",
    "\n",
    "# Pass the query to the invoke method and print the result.\n",
    "response = llm.invoke(query)\n",
    "print(response.content)"
   ]
  },
  {
   "cell_type": "markdown",
   "metadata": {},
   "source": [
    "# Templates for Instructions"
   ]
  },
  {
   "cell_type": "code",
   "execution_count": 18,
   "metadata": {},
   "outputs": [],
   "source": [
    "# Define the format for the template.\n",
    "\n",
    "format = \"\"\"You are a world famous restaurant critic.  Answer only questions that would be about restaurants.\n",
    "If the human asks questions not related to restaurant, remind them that your job is to help them get the details of a restaurnt\n",
    "Question: {query}\n",
    "Answer:\n",
    "\n",
    "    **Your response must be in the following format:**\n",
    "\n",
    "    **Summary:** [Summary of the restaurant]\n",
    "    **Moods:** [Moods of the restaurant]\n",
    "    **Highlight:** [Food quality, Service, Value]\n",
    "    **Rating:** [Rating]\n",
    "\n",
    "    For example:\n",
    "    **Summary:** Chama Gaucha is a high-end churrascaria (Brazilian steakhouse) offering a wide selection of grilled meats carved tableside by gauchos (Brazilian cowboys)\n",
    "    **Moods:** Vibrant, lively, and celebratory\n",
    "    **Highlight:** Reviewers consistently praise the \"perfectly cooked meats\" and the \"robust salad bar\" with fresh options. \n",
    "                The service is frequently described as \"impeccable\" and \"attentive,\" with staff ensuring glasses are filled and meat preferences are met.\n",
    "    **Rating:** 4.7\n",
    "\n",
    "    Do not include any extra text or formatting. \n",
    "\"\"\"\n",
    "\n",
    "# Construct the prompt template.\n",
    "prompt_template = PromptTemplate(\n",
    "    input_variables=[\"query\"], \n",
    "    template = format)"
   ]
  },
  {
   "cell_type": "code",
   "execution_count": 20,
   "metadata": {},
   "outputs": [
    {
     "name": "stdout",
     "output_type": "stream",
     "text": [
      "**Summary:** Pho Binh on Beechnut in Houston is a popular Vietnamese restaurant known for its large portions of classic pho and other Vietnamese dishes at affordable prices.  It's a casual, family-friendly establishment.\n",
      "**Moods:** Casual, bustling, family-friendly\n",
      "**Highlight:**  Reviewers often cite the generous portion sizes and flavorful broth of the pho as highlights. Service is generally considered efficient, though not always overly attentive.  The value is excellent for the price.\n",
      "**Rating:** 4.2\n"
     ]
    }
   ],
   "source": [
    "response = (prompt_template | llm).invoke(query)\n",
    "print(response.content)  "
   ]
  },
  {
   "cell_type": "markdown",
   "metadata": {},
   "source": [
    "# Combining Chains"
   ]
  },
  {
   "cell_type": "code",
   "execution_count": null,
   "metadata": {},
   "outputs": [],
   "source": []
  }
 ],
 "metadata": {
  "kernelspec": {
   "display_name": "project",
   "language": "python",
   "name": "python3"
  },
  "language_info": {
   "codemirror_mode": {
    "name": "ipython",
    "version": 3
   },
   "file_extension": ".py",
   "mimetype": "text/x-python",
   "name": "python",
   "nbconvert_exporter": "python",
   "pygments_lexer": "ipython3",
   "version": "3.10.16"
  }
 },
 "nbformat": 4,
 "nbformat_minor": 4
}
