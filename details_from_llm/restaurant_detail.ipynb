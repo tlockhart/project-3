{
 "cells": [
  {
   "cell_type": "code",
   "execution_count": 42,
   "metadata": {},
   "outputs": [],
   "source": [
    "from langchain_google_genai import ChatGoogleGenerativeAI\n",
    "from dotenv import load_dotenv, find_dotenv\n",
    "from langchain import PromptTemplate\n",
    "import os"
   ]
  },
  {
   "cell_type": "markdown",
   "metadata": {},
   "source": [
    "# LLM Model and API Key"
   ]
  },
  {
   "cell_type": "code",
   "execution_count": 43,
   "metadata": {},
   "outputs": [],
   "source": [
    "# Locate .env file, and load environment variables.\n",
    "dotenv_path = find_dotenv()\n",
    "if dotenv_path:\n",
    "    load_dotenv(dotenv_path)\n",
    "else:\n",
    "    raise FileNotFoundError(\".env file not found!\")\n",
    "\n",
    "\n",
    "# Set the model name for our LLMs.\n",
    "GEMINI_MODEL = \"gemini-2.0-flash\"\n",
    "\n",
    "# Load the API key to a variable.\n",
    "GEMINI_API_KEY = os.getenv(\"GEMINI_API_KEY\")\n",
    "if not GEMINI_API_KEY:\n",
    "    raise ValueError(\"GEMINI_API_KEY is missing! Check your .env file.\")\n"
   ]
  },
  {
   "cell_type": "markdown",
   "metadata": {},
   "source": [
    "# Basic Query"
   ]
  },
  {
   "cell_type": "code",
   "execution_count": 44,
   "metadata": {},
   "outputs": [],
   "source": [
    "# Initialize the model.\n",
    "llm = ChatGoogleGenerativeAI(model=GEMINI_MODEL, google_api_key=GEMINI_API_KEY, temperature=0.3)"
   ]
  },
  {
   "cell_type": "code",
   "execution_count": 54,
   "metadata": {},
   "outputs": [
    {
     "name": "stdout",
     "output_type": "stream",
     "text": [
      "Okay, here's the information I could find about Biryani Pot on Westheimer in Houston:\n",
      "\n",
      "*   **Address:** 5655 Westheimer Rd Suite A, Houston, TX 77056\n",
      "*   **Phone:** (713) 357-9777\n",
      "*   **Cuisine:** Indian, Pakistani, Biryani\n",
      "*   **Hours:**\n",
      "    *   Sunday - Thursday: 11 AM - 10 PM\n",
      "    *   Friday - Saturday: 11 AM - 11 PM\n",
      "*   **Menu Highlights:** Known for their various biryanis, curries, and Indo-Chinese dishes.\n",
      "*   **Service Options:**\n",
      "    *   Dine-in\n",
      "    *   Takeout\n",
      "    *   Delivery\n",
      "*   **Online Presence:** They have a website and are active on social media.\n",
      "*   **Price:** $$ (Mid-range)\n"
     ]
    }
   ],
   "source": [
    "# restaurant_name = \"Pho Binh\"\n",
    "# restaurant_city = \"Houston\"\n",
    "# restaurant_street = \"Beechnut\"\n",
    "\n",
    "restaurant_name = \"Biryani Pot\"\n",
    "restaurant_city = \"Houston\"\n",
    "restaurant_street = \"Westheimer\"\n",
    "\n",
    "# restaurant_name = \"Chama Gaucha Brazilian Steakhouse\"\n",
    "# restaurant_city = \"Houston\"\n",
    "# restaurant_street = \"Westheimer\"\n",
    "\n",
    "# Define a query as a string.\n",
    "# query = f\"Give me a summary and review of {restaurant_name} in {restaurant_city} on {restaurant_street}\"\n",
    "\n",
    "query = f\"Give me the details of {restaurant_name} in {restaurant_city} on {restaurant_street}\"\n",
    "\n",
    "# Pass the query to the invoke method and print the result.\n",
    "response = llm.invoke(query)\n",
    "print(response.content)"
   ]
  },
  {
   "cell_type": "markdown",
   "metadata": {},
   "source": [
    "# Templates for Instructions"
   ]
  },
  {
   "cell_type": "code",
   "execution_count": 55,
   "metadata": {},
   "outputs": [],
   "source": [
    "# Define the format for the template.\n",
    "\n",
    "format = \"\"\"You are a world famous restaurant critic.  Answer only questions that would be about restaurants.\n",
    "If the human asks questions not related to restaurant, remind them that your job is to help them get the details of a restaurnt\n",
    "Question: {query}\n",
    "Answer:\n",
    "\n",
    "    **Your response must be in the following format:**\n",
    "\n",
    "    **Summary:** [Summary of the restaurant]\n",
    "    **Moods:** [Moods of the restaurant]\n",
    "    **Highlight:** [quality of food, service, value]\n",
    "    **Rating:** [Rating]\n",
    "    **Hours:** [hours of business]\n",
    "    **Price:** [usual price range per person]\n",
    "\n",
    "    For example:\n",
    "    **Summary:** Chama Gaucha is a high-end churrascaria (Brazilian steakhouse) offering a wide selection of grilled meats carved tableside by gauchos (Brazilian cowboys)\n",
    "    **Moods:** Vibrant, lively, and celebratory\n",
    "    **Highlight:** Reviewers consistently praise the \"perfectly cooked meats\" and the \"robust salad bar\" with fresh options. \n",
    "                The service is frequently described as \"impeccable\" and \"attentive,\" with staff ensuring glasses are filled and meat preferences are met.\n",
    "    **Rating:** 4.7\n",
    "    **Hours:**  *   Sunday - Thursday: 11 AM - 10 PM\n",
    "                *   Friday - Saturday: 11 AM - 11 PM\n",
    "    **Price:**  $30 - $50\n",
    "\n",
    "    Do not include any extra text or formatting. \n",
    "\"\"\"\n",
    "\n",
    "# Construct the prompt template.\n",
    "prompt_template = PromptTemplate(\n",
    "    input_variables=[\"query\"], \n",
    "    template = format)"
   ]
  },
  {
   "cell_type": "code",
   "execution_count": 56,
   "metadata": {},
   "outputs": [
    {
     "name": "stdout",
     "output_type": "stream",
     "text": [
      "**Summary:** Biryani Pot on Westheimer is a casual Indian restaurant specializing in various biryanis and other Indian dishes.\n",
      "**Moods:** Casual, family-friendly, and bustling\n",
      "**Highlight:** Reviewers often praise the flavorful and aromatic biryanis, generous portion sizes, and reasonable prices.\n",
      "**Rating:** 4.0\n",
      "**Hours:** * Sunday - Thursday: 11 AM - 10 PM\n",
      "            * Friday - Saturday: 11 AM - 11 PM\n",
      "**Price:** $15 - $25\n"
     ]
    }
   ],
   "source": [
    "response = (prompt_template | llm).invoke(query)\n",
    "print(response.content)  "
   ]
  },
  {
   "cell_type": "markdown",
   "metadata": {},
   "source": [
    "<!-- # Combining Chains -->"
   ]
  },
  {
   "cell_type": "code",
   "execution_count": null,
   "metadata": {},
   "outputs": [],
   "source": []
  }
 ],
 "metadata": {
  "kernelspec": {
   "display_name": "project",
   "language": "python",
   "name": "python3"
  },
  "language_info": {
   "codemirror_mode": {
    "name": "ipython",
    "version": 3
   },
   "file_extension": ".py",
   "mimetype": "text/x-python",
   "name": "python",
   "nbconvert_exporter": "python",
   "pygments_lexer": "ipython3",
   "version": "3.10.16"
  }
 },
 "nbformat": 4,
 "nbformat_minor": 4
}
