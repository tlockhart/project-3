{
 "cells": [
  {
   "cell_type": "code",
   "execution_count": 94,
   "metadata": {},
   "outputs": [],
   "source": [
    "from langchain_google_genai import ChatGoogleGenerativeAI\n",
    "from dotenv import load_dotenv, find_dotenv\n",
    "from langchain import PromptTemplate\n",
    "from langchain.output_parsers import PydanticOutputParser\n",
    "from pydantic import Field, BaseModel\n",
    "\n",
    "import os"
   ]
  },
  {
   "cell_type": "markdown",
   "metadata": {},
   "source": [
    "# LLM Model and API Key"
   ]
  },
  {
   "cell_type": "code",
   "execution_count": 101,
   "metadata": {},
   "outputs": [],
   "source": [
    "# Locate .env file, and load environment variables.\n",
    "dotenv_path = find_dotenv()\n",
    "if dotenv_path:\n",
    "    load_dotenv(dotenv_path)\n",
    "else:\n",
    "    raise FileNotFoundError(\".env file not found!\")\n",
    "\n",
    "\n",
    "# Set the model name for our LLMs.\n",
    "GEMINI_MODEL = \"gemini-2.0-flash\"\n",
    "\n",
    "# Load the API key to a variable.\n",
    "GEMINI_API_KEY = os.getenv(\"GEMINI_API_KEY\")\n",
    "if not GEMINI_API_KEY:\n",
    "    raise ValueError(\"GEMINI_API_KEY is missing! Check your .env file.\")\n"
   ]
  },
  {
   "cell_type": "markdown",
   "metadata": {},
   "source": [
    "# Create the LangChain Model"
   ]
  },
  {
   "cell_type": "code",
   "execution_count": 102,
   "metadata": {},
   "outputs": [],
   "source": [
    "# Initialize the model.\n",
    "llm = ChatGoogleGenerativeAI(model=GEMINI_MODEL, google_api_key=GEMINI_API_KEY, temperature=0.3)"
   ]
  },
  {
   "cell_type": "code",
   "execution_count": 103,
   "metadata": {},
   "outputs": [],
   "source": [
    "# restaurant_name = \"Pho Binh\"\n",
    "# restaurant_city = \"Houston\"\n",
    "# restaurant_street = \"Beechnut\"\n",
    "\n",
    "restaurant_name = \"Biryani Pot\"\n",
    "restaurant_city = \"Houston\"\n",
    "restaurant_street = \"Westheimer\"\n",
    "\n",
    "# restaurant_name = \"Chama Gaucha Brazilian Steakhouse\"\n",
    "# restaurant_city = \"Houston\"\n",
    "# restaurant_street = \"Westheimer\"\n",
    "\n",
    "# Define a query as a string.\n",
    "# query = f\"Give me a summary and review of {restaurant_name} in {restaurant_city} on {restaurant_street}\"\n",
    "\n",
    "query = f\"Give me the details of {restaurant_name} in {restaurant_city} on {restaurant_street}\"\n",
    "\n",
    "# Pass the query to the invoke method and print the result.\n",
    "# response = llm.invoke(query)\n",
    "# print(response.content)"
   ]
  },
  {
   "cell_type": "markdown",
   "metadata": {},
   "source": [
    "# Templates for Instructions"
   ]
  },
  {
   "cell_type": "code",
   "execution_count": 104,
   "metadata": {},
   "outputs": [],
   "source": [
    "# Define the format for the template.\n",
    "\n",
    "format = \"\"\"You are a world famous restaurant expert.  Answer only questions that would be about restaurants.\n",
    "If the human asks questions not related to restaurant, remind them that your job is to help them get the details of a restaurnt\n",
    "Question: {query}\n",
    "Answer:\n",
    "\n",
    "    **Your response should have the following information:**\n",
    "\n",
    "    **Summary:** [Summary of the restaurant]\n",
    "    **Phone:** [Phone number of the restaurant]\n",
    "    **Address:** [Address of the restaurent]\n",
    "    **Moods:** [Moods of the restaurant]\n",
    "    **Highlight:** [quality of food, service, value]\n",
    "    **Rating:** [Rating]\n",
    "    **Hours:** [hours of business]\n",
    "    **Price:** [usual price range per person]\n",
    "    **Popular Items:** [popluar menu items]\n",
    "\n",
    "    For example:\n",
    "    **Summary:** Chama Gaucha is a high-end churrascaria (Brazilian steakhouse) offering a wide selection of grilled meats carved tableside by gauchos (Brazilian cowboys)\n",
    "    **Phone:** (713) 357-9777\n",
    "    **Address:** 5655 Westheimer Rd Suite A, Houston, TX 77056\n",
    "    **Moods:** Vibrant, lively, and celebratory\n",
    "    **Highlight:** Reviewers consistently praise the \"perfectly cooked meats\" and the \"robust salad bar\" with fresh options. \n",
    "                The service is frequently described as \"impeccable\" and \"attentive,\" with staff ensuring glasses are filled and meat preferences are met.\n",
    "    **Rating:** 4.7\n",
    "    **Hours:**  Sunday - Thursday: 11 AM - 10 PM\n",
    "                Friday - Saturday: 11 AM - 11 PM\n",
    "    **Price:**  $30 - $50\n",
    "    **Popular Items:** Picanha, Churrasco, Salad Bar\n",
    "\n",
    "    Do not include any extra text or formatting. \n",
    "\"\"\"\n",
    "\n",
    "# Construct the prompt template.\n",
    "prompt_template = PromptTemplate(\n",
    "    input_variables=[\"query\"], \n",
    "    template = format)\n",
    "\n",
    "# Checking the response\n",
    "# response = (prompt_template | llm).invoke(query)\n",
    "# print(response.content)  \n"
   ]
  },
  {
   "cell_type": "markdown",
   "metadata": {},
   "source": [
    "<!-- # Combining Chains -->"
   ]
  },
  {
   "cell_type": "code",
   "execution_count": 105,
   "metadata": {},
   "outputs": [],
   "source": [
    "# Define the class for our parsed responses.\n",
    "class restaurant_detail(BaseModel):\n",
    "    phone: str = Field(description=\"Phone\")\n",
    "    address: str = Field(description=\"Address\")\n",
    "    summary: str = Field(description=\"Summary\")\n",
    "    moods: str = Field(description=\"Moods\")\n",
    "    highlight: str = Field(description=\"Highlight\")\n",
    "    rating: str = Field(description=\"Rating\")\n",
    "    hours: str = Field(description=\"Hours\")\n",
    "    price: str = Field(description=\"Price\")\n",
    "    popular_items: str = Field(description=\"Popular Items\")\n",
    "\n",
    "# Initialize the output parser using the schema.\n",
    "parser = PydanticOutputParser(pydantic_object = restaurant_detail)\n",
    "\n",
    "# Get the output format instructions and print them.\n",
    "instructions = parser.get_format_instructions()\n"
   ]
  },
  {
   "cell_type": "code",
   "execution_count": 106,
   "metadata": {},
   "outputs": [],
   "source": [
    "# Define a query as a string, combining with the instructions.\n",
    "query += \"\\n\\n\" + instructions\n",
    "\n",
    "# Pass the query to the invoke method, and print the result.\n",
    "response = (prompt_template | llm).invoke(query)\n",
    "\n",
    "# Parse the result, store it, and print it.\n",
    "data = parser.parse(response.content)\n"
   ]
  },
  {
   "cell_type": "code",
   "execution_count": 107,
   "metadata": {},
   "outputs": [
    {
     "name": "stdout",
     "output_type": "stream",
     "text": [
      "(832) 742-5544\n",
      "\n",
      "650 Westheimer Rd Suite C, Houston, TX 77006\n",
      "\n",
      "Casual spot dishing out Indian & Pakistani staples such as biryani, curries & kebabs.\n",
      "\n",
      "Casual\n",
      "\n",
      "Flavorful biryani, generous portions, and affordable prices are frequently praised. Many reviewers appreciate the quick service and the variety of options available.\n",
      "\n",
      "4.0\n",
      "\n",
      "Sunday-Thursday 11AM–10PM, Friday-Saturday 11AM–11PM\n",
      "\n",
      "$10-20\n",
      "\n",
      "Chicken Biryani, Goat Biryani, Chicken 65\n",
      "\n"
     ]
    }
   ],
   "source": [
    "# Display the data\n",
    "print(data.phone + '\\n')\n",
    "print(data.address + '\\n')\n",
    "print(data.summary + '\\n')\n",
    "print(data.moods + '\\n')\n",
    "print(data.highlight + '\\n')\n",
    "print(data.rating + '\\n')\n",
    "print(data.hours + '\\n')\n",
    "print(data.price + '\\n')\n",
    "print(data.popular_items + '\\n')\n"
   ]
  },
  {
   "cell_type": "code",
   "execution_count": null,
   "metadata": {},
   "outputs": [],
   "source": [
    "def assign_mood(text):"
   ]
  }
 ],
 "metadata": {
  "kernelspec": {
   "display_name": "project",
   "language": "python",
   "name": "python3"
  },
  "language_info": {
   "codemirror_mode": {
    "name": "ipython",
    "version": 3
   },
   "file_extension": ".py",
   "mimetype": "text/x-python",
   "name": "python",
   "nbconvert_exporter": "python",
   "pygments_lexer": "ipython3",
   "version": "3.10.16"
  }
 },
 "nbformat": 4,
 "nbformat_minor": 4
}
