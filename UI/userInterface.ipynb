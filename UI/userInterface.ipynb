{
 "cells": [
  {
   "cell_type": "code",
   "execution_count": null,
   "metadata": {
    "id": "liT3SzfQsz7k"
   },
   "outputs": [],
   "source": [
    "# !pip install transformers\n",
    "# !pip install gradio"
   ]
  },
  {
   "cell_type": "code",
   "execution_count": null,
   "metadata": {
    "colab": {
     "base_uri": "https://localhost:8080/"
    },
    "executionInfo": {
     "elapsed": 1718,
     "status": "ok",
     "timestamp": 1743869138959,
     "user": {
      "displayName": "Meghan Li",
      "userId": "14391102143127833312"
     },
     "user_tz": 300
    },
    "id": "C3F7qlyfGvQd",
    "outputId": "c470b38a-1c51-4d9c-c83d-3ded6aa356d0"
   },
   "outputs": [
    {
     "name": "stderr",
     "output_type": "stream",
     "text": [
      "/usr/local/lib/python3.11/dist-packages/transformers/pipelines/__init__.py:1156: UserWarning: \"translation\" task was used, instead of \"translation_XX_to_YY\", defaulting to \"translation_en_to_de\"\n",
      "  warnings.warn(\n",
      "Device set to use cpu\n"
     ]
    }
   ],
   "source": [
    "from transformers import pipeline\n",
    "translator = pipeline(\"translation\", model=\"t5-base\")\n",
    "\n",
    "# target language could be Romanian, French, German\n",
    "def translate(input_text, target_langage):\n",
    "\n",
    "  text = f\"translate English to {target_langage}: {input_text}\"\n",
    "  results = translator(text)\n",
    "\n",
    "  return results[0]['translation_text']"
   ]
  },
  {
   "cell_type": "code",
   "execution_count": null,
   "metadata": {
    "colab": {
     "base_uri": "https://localhost:8080/",
     "height": 648
    },
    "executionInfo": {
     "elapsed": 1296,
     "status": "ok",
     "timestamp": 1743869146427,
     "user": {
      "displayName": "Meghan Li",
      "userId": "14391102143127833312"
     },
     "user_tz": 300
    },
    "id": "fTqQefb9YvOH",
    "outputId": "0ef744d0-edc6-425f-c8ba-5e1fa04eaf26"
   },
   "outputs": [
    {
     "name": "stdout",
     "output_type": "stream",
     "text": [
      "Running Gradio in a Colab notebook requires sharing enabled. Automatically setting `share=True` (you can turn this off by setting `share=False` in `launch()` explicitly).\n",
      "\n",
      "Colab notebook detected. To show errors in colab notebook, set debug=True in launch()\n",
      "* Running on public URL: https://481d7471b9a4e1d9b7.gradio.live\n",
      "\n",
      "This share link expires in 72 hours. For free permanent hosting and GPU upgrades, run `gradio deploy` from the terminal in the working directory to deploy to Hugging Face Spaces (https://huggingface.co/spaces)\n"
     ]
    },
    {
     "data": {
      "text/html": [
       "<div><iframe src=\"https://481d7471b9a4e1d9b7.gradio.live\" width=\"100%\" height=\"500\" allow=\"autoplay; camera; microphone; clipboard-read; clipboard-write;\" frameborder=\"0\" allowfullscreen></iframe></div>"
      ],
      "text/plain": [
       "<IPython.core.display.HTML object>"
      ]
     },
     "metadata": {},
     "output_type": "display_data"
    },
    {
     "data": {
      "text/plain": []
     },
     "execution_count": 21,
     "metadata": {},
     "output_type": "execute_result"
    }
   ],
   "source": [
    "import gradio as gr\n",
    "\n",
    "def getSuggestion(mood):\n",
    "    # Based on user mood, get a suggestion (formatted as a string)\n",
    "    result = {\n",
    "        \"phone\": \"123456\",\n",
    "        \"address\": \"Address\",\n",
    "        \"summary\": \"Summary\",\n",
    "        \"moods\": \"Moods\",\n",
    "        \"highlight\": \"Highlight\",\n",
    "        \"rating\": \"Rating\",\n",
    "        \"hours\": \"Hours\",\n",
    "        \"price\": \"$ Price\",\n",
    "        \"popular_items\": \"Popular Items\"\n",
    "    }\n",
    "\n",
    "    # Format result as a string with each key-value pair on a new line\n",
    "    formatted_result = \"\\n\".join([f\"{key}: {value}\" for key, value in result.items()])\n",
    "    return formatted_result\n",
    "\n",
    "\n",
    "def create_interface():\n",
    "    # Define mood options with images\n",
    "    feelings = [\"indulgent\", \"cozy\", \"festive\", \"adventurous\", \"energizing\", \"romantic\", \"refreshing\", \"comforting\"]\n",
    "    mood_images = [\n",
    "        (\"indulgent\", \"https://previews.123rf.com/images/yayayoy/yayayoy1210/yayayoy121000009/15836615-emoticon-eating-an-apple.jpg\"),\n",
    "        (\"cozy\", \"https://previews.123rf.com/images/yayayoy/yayayoy1205/yayayoy120500007/13629388-meditating-emoticon.jpg\"),\n",
    "        (\"festive\", \"https://thumbs.dreamstime.com/b/christmas-emoticon-bell-27501954.jpg\"),\n",
    "        (\"adventurous\", \"https://banner2.cleanpng.com/20180925/pw/kisspng-smiley-emoticon-emoji-image-computer-icons-personalizza-la-tua-vacanza-la-maga-del-lago-1713931665544.webp\"),\n",
    "        (\"energizing\", \"https://previews.123rf.com/images/suslo/suslo1304/suslo130400008/18953821-yellow-sign-of-emotion-with-a-mohawk-and-hands.jpg\"),\n",
    "        (\"romantic\", \"https://previews.123rf.com/images/yayayoy/yayayoy1602/yayayoy160200012/52420163-male-emoticon-blowing-a-kiss.jpg\"),\n",
    "        (\"refreshing\", \"https://png.pngtree.com/thumb_back/fh260/background/20241030/pngtree-happy-emoji-made-of-water-droplets-refreshing-playful-design-with-reflective-image_16473684.jpg\"),\n",
    "        (\"comforting\", \"https://previews.123rf.com/images/yayayoy/yayayoy1305/yayayoy130500001/19481706-dreamy-emoticon-with-his-head-propped-by-his-hands.jpg\"),\n",
    "    ]\n",
    "\n",
    "    with gr.Blocks() as interface:\n",
    "\n",
    "        # Select mood\n",
    "        selected_mood = gr.Radio(choices=feelings, label=\"How do you feel today?\", visible=True)\n",
    "        mood_image_html = gr.HTML(visible=True)\n",
    "\n",
    "        # Get suggestion\n",
    "        suggestion_button = gr.Button(\"Find something cool\")\n",
    "        suggestion_output = gr.Textbox(label=\"We suggest you to try this resraunt for your current mood, hope you would enjoy it!\", interactive=False, visible=False)\n",
    "\n",
    "        # Select language & translate\n",
    "        target_languages = [\"English\", \"French\", \"German\", \"Romanian\"]\n",
    "        target_language = gr.Dropdown(choices=target_languages, label=\"Please select a Language\", visible=False)\n",
    "        language_confirm_button = gr.Button(\"Translate\", visible=False)\n",
    "        translate_output = gr.Textbox(label=\"Translated suggestion\", interactive=False, visible=False)\n",
    "\n",
    "        def on_mood_select(mood):\n",
    "            mood_img_url = next(img for label, img in mood_images if label == mood)\n",
    "            image_html = f'<img src=\"{mood_img_url}\" style=\"width:150px;height:150px;\">'\n",
    "            return gr.update(value=image_html, visible=True)\n",
    "\n",
    "        def on_suggestion_button_click(mood):\n",
    "            suggestion = getSuggestion(mood)\n",
    "            return (\n",
    "                gr.update(value=suggestion, visible=True),\n",
    "                gr.update(visible=True),\n",
    "                gr.update(visible=True),\n",
    "                gr.update(visible=True)\n",
    "            )\n",
    "\n",
    "        def on_translate_button_click(text, language):\n",
    "            translated_text = translate(text, language)\n",
    "            return gr.update(value=translated_text)\n",
    "\n",
    "        # button events\n",
    "        selected_mood.select(fn=on_mood_select, inputs=[selected_mood], outputs=[mood_image_html])\n",
    "        suggestion_button.click(\n",
    "            fn=on_suggestion_button_click,\n",
    "            inputs=[selected_mood],\n",
    "            outputs=[suggestion_output, target_language, language_confirm_button, translate_output]\n",
    "        )\n",
    "        language_confirm_button.click(\n",
    "            fn=on_translate_button_click,\n",
    "            inputs=[suggestion_output, target_language],\n",
    "            outputs=[translate_output]\n",
    "        )\n",
    "\n",
    "    return interface\n",
    "\n",
    "# Launch the Gradio interface\n",
    "gradio_ui = create_interface()\n",
    "gradio_ui.launch()\n"
   ]
  }
 ],
 "metadata": {
  "colab": {
   "provenance": []
  },
  "kernelspec": {
   "display_name": "Python 3 (ipykernel)",
   "language": "python",
   "name": "python3"
  },
  "language_info": {
   "codemirror_mode": {
    "name": "ipython",
    "version": 3
   },
   "file_extension": ".py",
   "mimetype": "text/x-python",
   "name": "python",
   "nbconvert_exporter": "python",
   "pygments_lexer": "ipython3",
   "version": "3.10.12"
  }
 },
 "nbformat": 4,
 "nbformat_minor": 0
}
